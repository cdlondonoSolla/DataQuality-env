{
 "cells": [
  {
   "cell_type": "code",
   "execution_count": 1,
   "id": "d5bdcbf1-54d5-4ec0-abd4-158aa5a6c365",
   "metadata": {},
   "outputs": [],
   "source": [
    "import pandas as pd"
   ]
  },
  {
   "cell_type": "code",
   "execution_count": 5,
   "id": "ecf6b7b7-0d3f-4c6e-b0a8-29df4b39578b",
   "metadata": {},
   "outputs": [],
   "source": [
    "ruta_kna1 = 'data/temp/kna1.csv'\n",
    "df_kna1 = pd.read_csv(ruta_kna1)\n",
    "\n",
    "ruta_lfa1 = 'data/temp/lfa1.csv'\n",
    "df_lfa1 = pd.read_csv(ruta_lfa1)\n",
    "\n",
    "ruta_mara = 'data/temp/mara.csv'\n",
    "df_mara = pd.read_csv(ruta_mara)\n"
   ]
  },
  {
   "cell_type": "code",
   "execution_count": 26,
   "id": "23cc4b58-a1cb-48f4-afe9-b0d21f6c4a8d",
   "metadata": {},
   "outputs": [
    {
     "data": {
      "text/html": [
       "<div>\n",
       "<style scoped>\n",
       "    .dataframe tbody tr th:only-of-type {\n",
       "        vertical-align: middle;\n",
       "    }\n",
       "\n",
       "    .dataframe tbody tr th {\n",
       "        vertical-align: top;\n",
       "    }\n",
       "\n",
       "    .dataframe thead th {\n",
       "        text-align: right;\n",
       "    }\n",
       "</style>\n",
       "<table border=\"1\" class=\"dataframe\">\n",
       "  <thead>\n",
       "    <tr style=\"text-align: right;\">\n",
       "      <th></th>\n",
       "      <th>maestro</th>\n",
       "      <th>columna</th>\n",
       "    </tr>\n",
       "  </thead>\n",
       "  <tbody>\n",
       "    <tr>\n",
       "      <th>0</th>\n",
       "      <td>conteo_Cliente</td>\n",
       "      <td>200</td>\n",
       "    </tr>\n",
       "    <tr>\n",
       "      <th>1</th>\n",
       "      <td>conteo_Acreedor</td>\n",
       "      <td>200</td>\n",
       "    </tr>\n",
       "    <tr>\n",
       "      <th>2</th>\n",
       "      <td>conteo_Material</td>\n",
       "      <td>200</td>\n",
       "    </tr>\n",
       "  </tbody>\n",
       "</table>\n",
       "</div>"
      ],
      "text/plain": [
       "           maestro  columna\n",
       "0   conteo_Cliente      200\n",
       "1  conteo_Acreedor      200\n",
       "2  conteo_Material      200"
      ]
     },
     "execution_count": 26,
     "metadata": {},
     "output_type": "execute_result"
    }
   ],
   "source": [
    "#df_kna1.head(5)\n",
    "\n",
    "#df_kna1 = df_kna1['Cliente']\n",
    "\n",
    "conteo_Cliente = df_kna1['Cliente'].count()\n",
    "conteo_Acreedor = df_lfa1['Acreedor'].count()\n",
    "conteo_Material = df_mara['Material'].count()\n",
    "\n",
    "\n",
    "conteo_registros = {\n",
    "    'maestro': ['conteo_Cliente', 'conteo_Acreedor', 'conteo_Material'],\n",
    "    'columna': [conteo_Cliente, conteo_Acreedor, conteo_Material]\n",
    "       }\n",
    "df = pd.DataFrame(conteo_registros)\n",
    "\n",
    "df"
   ]
  }
 ],
 "metadata": {
  "kernelspec": {
   "display_name": "Python 3 (ipykernel)",
   "language": "python",
   "name": "python3"
  },
  "language_info": {
   "codemirror_mode": {
    "name": "ipython",
    "version": 3
   },
   "file_extension": ".py",
   "mimetype": "text/x-python",
   "name": "python",
   "nbconvert_exporter": "python",
   "pygments_lexer": "ipython3",
   "version": "3.12.4"
  }
 },
 "nbformat": 4,
 "nbformat_minor": 5
}
