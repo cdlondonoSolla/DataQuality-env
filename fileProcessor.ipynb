{
 "cells": [
  {
   "cell_type": "code",
   "execution_count": 87,
   "id": "68e81ce8-d5ae-4213-a3c2-60a6df9b0e3b",
   "metadata": {},
   "outputs": [],
   "source": [
    "import pandas as pd\n",
    "import numpy as np\n",
    "import re"
   ]
  },
  {
   "cell_type": "code",
   "execution_count": 88,
   "id": "367c42f3-b9cc-46e6-9c02-c28a6cb159d2",
   "metadata": {},
   "outputs": [],
   "source": [
    "# Para el manejo de este archivo se define como regla general\n",
    "\n",
    "# error = true\n",
    "# ok = false\n",
    "\n",
    "# Siempre que las validaciones arrojen True significa que hay datos sin calidad."
   ]
  },
  {
   "cell_type": "code",
   "execution_count": 89,
   "id": "cc338b73-c397-435a-8292-cd80a18872bf",
   "metadata": {},
   "outputs": [],
   "source": [
    "# Ruta al archivo CSV\n",
    "ruta_csv = 'data/temp/kna1.csv'\n",
    "\n",
    "# Cargar el archivo CSV en un DataFrame con opciones adicionales\n",
    "kna1 = pd.read_csv(\n",
    "    ruta_csv,\n",
    "    sep=',',  # Delimitador\n",
    "    header=0,  # Primera fila como encabezado\n",
    "    dtype={'Tratamiento': str, 'Número fiscal 5': str, 'Teléfono 1': str},  # Tipos de datos\n",
    "    na_values=['NA', 'N/A']  # Valores a considerar como NaN\n",
    ")"
   ]
  },
  {
   "cell_type": "code",
   "execution_count": 90,
   "id": "3360941d-eac1-4356-be22-204a251d6c10",
   "metadata": {},
   "outputs": [],
   "source": [
    "kna1_renamed =  kna1.rename(columns={'Tipo NIF': 'nif'})\n",
    "\n",
    "# Ruta al archivo CSV\n",
    "ruta_csv = 'data/generalTabes/nif.csv'\n",
    "\n",
    "# Cargar el archivo CSV en un DataFrame con opciones adicionales\n",
    "nif = pd.read_csv(\n",
    "    ruta_csv,\n",
    "    sep=',',  # Delimitador\n",
    "    header=0,  # Primera fila como encabezado\n",
    "    \n",
    ")\n",
    "\n",
    "\n",
    "nif_renamed =  nif.rename(columns={'nif': 'nif'})\n",
    "\n",
    "\n",
    "# Realizar el merge\n",
    "kna1_renamed = pd.merge(kna1_renamed, nif_renamed, on='nif', how='left')\n",
    "\n",
    "# Seleccionar columnas específicas\n",
    "validacionNif = ['Cliente','nif', 'descripcion']\n",
    "resultado_seleccionado = kna1_renamed[validacionNif]"
   ]
  },
  {
   "cell_type": "code",
   "execution_count": 91,
   "id": "a07b3936-1d6b-4627-9a23-3b68fff02bd8",
   "metadata": {},
   "outputs": [],
   "source": [
    "kna1_renamed =  kna1_renamed.rename(columns={'Clase de impuesto': 'claseImp'})\n",
    "\n",
    "# Ruta al archivo CSV\n",
    "ruta_csv = 'data\\generalTabes\\claseImpuesto.csv'\n",
    "\n",
    "# Cargar el archivo CSV en un DataFrame con opciones adicionales\n",
    "impuesto = pd.read_csv(\n",
    "    ruta_csv,\n",
    "    sep=',',  # Delimitador\n",
    "    header=0,  # Primera fila como encabezado\n",
    ")\n",
    "\n",
    "\n",
    "impuesto_renamed =  impuesto.rename(columns={'clase': 'claseImp'})\n",
    "\n",
    "\n",
    "# Realizar el merge\n",
    "resultado = pd.merge(kna1_renamed, impuesto_renamed, on='claseImp', how='left')\n",
    "resultado['tipoPerona'] = resultado['descripcion impuesto'].str[:2]"
   ]
  },
  {
   "cell_type": "code",
   "execution_count": 92,
   "id": "7a03422f-44f3-4e38-91f2-5bd5ea4123ed",
   "metadata": {},
   "outputs": [],
   "source": [
    "# tratamiento empresa no tenga clase de impuestos pn\n",
    "cond1 = resultado['Tratamiento'] == 'Empresa'\n",
    "cond2 = resultado['tipoPerona'] == 'PN'\n",
    "\n",
    "resultado['tratamiento_x_claseImpto'] = np.where(cond1 & cond2, True, False)"
   ]
  },
  {
   "cell_type": "code",
   "execution_count": 93,
   "id": "c06980f4-8351-4b09-a342-3b918f436232",
   "metadata": {},
   "outputs": [],
   "source": [
    "# tratamiento empresa no tenga tipo nif <> 31\n",
    "cond1 = resultado['Tratamiento'] == 'Empresa'\n",
    "cond2 = resultado['nif'] != 31\n",
    "\n",
    "resultado['tratamiento_x_nif'] = np.where(cond1 & cond2,True,False)"
   ]
  },
  {
   "cell_type": "code",
   "execution_count": 94,
   "id": "17a7f0cc-99a8-4307-a292-7010767500ed",
   "metadata": {},
   "outputs": [],
   "source": [
    "# tratamiento empresa no tenga medios magneticos (nombre1 y nombre2)\n",
    "\n",
    "cond1 = resultado['Tratamiento'] == 'Empresa'\n",
    "cond2 = resultado['Nombre 3'] == 'NaN'\n",
    "cond3 = resultado['Nombre 4'] == 'NaN'\n",
    "\n",
    "resultado['tratamiento_x_medMag'] = np.where(cond1 & cond2 & cond3,True,False)"
   ]
  },
  {
   "cell_type": "code",
   "execution_count": 95,
   "id": "4fee7958-b742-457f-af1e-dfa0a7334bf9",
   "metadata": {},
   "outputs": [],
   "source": [
    "# nif 5 no este vacio\n",
    "\n",
    "cond1 = resultado['Número fiscal 5'].isnull()\n",
    "\n",
    "\n",
    "resultado['error_nif5'] = np.where(cond1,True,False)"
   ]
  },
  {
   "cell_type": "code",
   "execution_count": 96,
   "id": "c148850b-c70f-4044-81bf-87092a2fb3dc",
   "metadata": {},
   "outputs": [],
   "source": [
    "# los numeros de telefono no tengan guiones (-)\n",
    "\n",
    "cond1 = resultado['Teléfono 1']\n",
    "\n",
    "cond1 = cond1.fillna('').astype(str)\n",
    "\n",
    "def contains_hyphen(text):\n",
    "    return '-' in text\n",
    "\n",
    "# Aplicar la función a cada elemento de la serie\n",
    "resultado['error_telefono'] = cond1.apply(contains_hyphen)"
   ]
  },
  {
   "cell_type": "code",
   "execution_count": 97,
   "id": "1c3f698c-6081-471e-b6d3-ae954dd379c8",
   "metadata": {},
   "outputs": [],
   "source": [
    "# los numeros de telefono estan vacios\n",
    "\n",
    "cond1 = resultado['Teléfono 1'].isnull()\n",
    "\n",
    "\n",
    "resultado['error_telefono_vacio'] = np.where(cond1,True,False)"
   ]
  },
  {
   "cell_type": "code",
   "execution_count": 98,
   "id": "94584b68-17a3-49ca-a01f-6b195d351e7e",
   "metadata": {},
   "outputs": [],
   "source": [
    "# las direcciones no tengan caracteres especiales (# - grados N`)\n",
    "\n",
    "cond1 = resultado['Calle']\n",
    "\n",
    "cond1 = cond1.fillna('').astype(str)\n",
    "\n",
    "def contains_hyphen(text):\n",
    "    #definir los caracteres especiales que se consideran como error en la direccion\n",
    "    patron = r'[#-]'\n",
    "    return bool(re.search(patron, text))\n",
    "\n",
    "# Aplicar la función a cada elemento de la serie\n",
    "resultado['error_calle'] = cond1.apply(contains_hyphen)"
   ]
  },
  {
   "cell_type": "code",
   "execution_count": 99,
   "id": "f8f54f33-9375-48db-adfe-ff2f9448feff",
   "metadata": {},
   "outputs": [],
   "source": [
    "# tratamiento empresa no tenga medios magneticos (nombre1 y nombre2)\n",
    "\n",
    "    \n",
    "# Crear una columna 'error_personaFisica' basada en condiciones\n",
    "resultado['error_personaFisica'] = False  # Inicializar con un valor por defecto\n",
    "\n",
    "# Aplicar condiciones\n",
    "resultado.loc[(resultado['claseImp'] == 13) & (resultado['nif'] == 13) & (resultado['Persona física'].isnull()), 'error_personaFisica'] = True\n",
    "\n",
    "resultado.loc[(resultado['claseImp'] != 13) & (resultado['nif'] == 13) & (resultado['Persona física'] == 'X'), 'error_personaFisica'] = True\n",
    "\n",
    "resultado.loc[(resultado['claseImp'] == 13) & (resultado['nif'] != 13) & (resultado['Persona física'] == 'X'), 'error_personaFisica'] = True\n"
   ]
  },
  {
   "cell_type": "code",
   "execution_count": 100,
   "id": "e54faf07-4cd3-4eed-a6d1-7ad7851a1494",
   "metadata": {},
   "outputs": [
    {
     "name": "stdout",
     "output_type": "stream",
     "text": [
      "     Cliente  nif  claseImp Persona física  error_personaFisica\n",
      "0   11038129   13        13            NaN                 True\n",
      "1   11038197   31        14            NaN                False\n",
      "2   11038219   43        13              X                 True\n",
      "3   11038230   13        13              X                False\n",
      "4   11038465   31        14            NaN                False\n",
      "5   11038479   31        14            NaN                False\n",
      "6   11038501   31        14            NaN                False\n",
      "7   11038517   31        14            NaN                False\n",
      "8   11038783   31        13            NaN                False\n",
      "9   11038858   31         8            NaN                False\n",
      "10  11039031   13        13              X                False\n",
      "11  11039043   13        13              X                False\n",
      "12  11039046   31        14            NaN                False\n",
      "13  11039080   13        13              X                False\n",
      "14  11039091   13        13              X                False\n",
      "15  11039203   13        13              X                False\n",
      "16  11039216   31        13            NaN                False\n",
      "17  11039217   31        14            NaN                False\n",
      "18  11039244   13        13              X                False\n",
      "19  11039438   13        13              X                False\n"
     ]
    }
   ],
   "source": [
    "# Seleccionar columnas específicas\n",
    "vista = ['Tratamiento', 'Cliente','claseImp', 'tipoPerona', 'nif', 'descripcion', 'tratamiento_x_claseImpto']\n",
    "vista = ['Tratamiento', 'Cliente','tipoPerona','tratamiento_x_claseImpto']\n",
    "vista = ['Tratamiento', 'Cliente','nif','tratamiento_x_nif']\n",
    "vista = ['Tratamiento', 'Cliente','nif', 'Nombre 3', 'Nombre 4', 'tratamiento_x_medMag']\n",
    "vista = ['Tratamiento', 'Cliente','nif', 'Número fiscal 5','error_nif5']\n",
    "vista = ['Cliente','nif', 'Teléfono 1','error_telefono']\n",
    "vista = ['Cliente','nif', 'Teléfono 1','error_telefono_vacio']\n",
    "vista = ['Cliente','nif', 'Calle','error_calle']\n",
    "vista = ['Cliente','nif', 'claseImp', 'Persona física', 'error_personaFisica']\n",
    "resultado_seleccionado = resultado[vista]\n",
    "\n",
    "\n",
    "#print(resultado_seleccionado)\n",
    "print(resultado_seleccionado)"
   ]
  }
 ],
 "metadata": {
  "kernelspec": {
   "display_name": "Python 3 (ipykernel)",
   "language": "python",
   "name": "python3"
  },
  "language_info": {
   "codemirror_mode": {
    "name": "ipython",
    "version": 3
   },
   "file_extension": ".py",
   "mimetype": "text/x-python",
   "name": "python",
   "nbconvert_exporter": "python",
   "pygments_lexer": "ipython3",
   "version": "3.11.7"
  }
 },
 "nbformat": 4,
 "nbformat_minor": 5
}
