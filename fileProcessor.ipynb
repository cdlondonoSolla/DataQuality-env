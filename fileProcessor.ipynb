{
 "cells": [
  {
   "cell_type": "code",
   "execution_count": 2,
   "id": "68e81ce8-d5ae-4213-a3c2-60a6df9b0e3b",
   "metadata": {},
   "outputs": [],
   "source": [
    "import pandas as pd\n",
    "import numpy as np"
   ]
  },
  {
   "cell_type": "code",
   "execution_count": 3,
   "id": "cc338b73-c397-435a-8292-cd80a18872bf",
   "metadata": {},
   "outputs": [],
   "source": [
    "# Ruta al archivo CSV\n",
    "ruta_csv = 'data/temp/kna1.csv'\n",
    "\n",
    "# Cargar el archivo CSV en un DataFrame con opciones adicionales\n",
    "kna1 = pd.read_csv(\n",
    "    ruta_csv,\n",
    "    sep=',',  # Delimitador\n",
    "    header=0,  # Primera fila como encabezado\n",
    "    dtype={'Tratamiento': str, 'Número fiscal 5': str},  # Tipos de datos\n",
    "    na_values=['NA', 'N/A']  # Valores a considerar como NaN\n",
    ")"
   ]
  },
  {
   "cell_type": "code",
   "execution_count": 4,
   "id": "3360941d-eac1-4356-be22-204a251d6c10",
   "metadata": {},
   "outputs": [],
   "source": [
    "kna1_renamed =  kna1.rename(columns={'Tipo NIF': 'nif'})\n",
    "\n",
    "# Ruta al archivo CSV\n",
    "ruta_csv = 'data/generalTabes/nif.csv'\n",
    "\n",
    "# Cargar el archivo CSV en un DataFrame con opciones adicionales\n",
    "nif = pd.read_csv(\n",
    "    ruta_csv,\n",
    "    sep=',',  # Delimitador\n",
    "    header=0,  # Primera fila como encabezado\n",
    "    \n",
    ")\n",
    "\n",
    "\n",
    "nif_renamed =  nif.rename(columns={'nif': 'nif'})\n",
    "\n",
    "\n",
    "# Realizar el merge\n",
    "kna1_renamed = pd.merge(kna1_renamed, nif_renamed, on='nif', how='left')\n",
    "\n",
    "# Seleccionar columnas específicas\n",
    "validacionNif = ['Cliente','nif', 'descripcion']\n",
    "resultado_seleccionado = kna1_renamed[validacionNif]"
   ]
  },
  {
   "cell_type": "code",
   "execution_count": 5,
   "id": "a07b3936-1d6b-4627-9a23-3b68fff02bd8",
   "metadata": {},
   "outputs": [],
   "source": [
    "kna1_renamed =  kna1_renamed.rename(columns={'Clase de impuesto': 'claseImp'})\n",
    "\n",
    "# Ruta al archivo CSV\n",
    "ruta_csv = 'data\\generalTabes\\claseImpuesto.csv'\n",
    "\n",
    "# Cargar el archivo CSV en un DataFrame con opciones adicionales\n",
    "impuesto = pd.read_csv(\n",
    "    ruta_csv,\n",
    "    sep=',',  # Delimitador\n",
    "    header=0,  # Primera fila como encabezado\n",
    ")\n",
    "\n",
    "\n",
    "impuesto_renamed =  impuesto.rename(columns={'clase': 'claseImp'})\n",
    "\n",
    "\n",
    "# Realizar el merge\n",
    "resultado = pd.merge(kna1_renamed, impuesto_renamed, on='claseImp', how='left')\n",
    "resultado['tipoPerona'] = resultado['descripcion impuesto'].str[:2]"
   ]
  },
  {
   "cell_type": "code",
   "execution_count": 6,
   "id": "7a03422f-44f3-4e38-91f2-5bd5ea4123ed",
   "metadata": {},
   "outputs": [],
   "source": [
    "# tratamiento empresa no tenga clase de impuestos pn\n",
    "cond1 = resultado['Tratamiento'] == 'Empresa'\n",
    "cond2 = resultado['tipoPerona'] == 'PN'\n",
    "\n",
    "resultado['tratamiento_x_claseImpto'] = np.where(cond1 & cond2,'error','ok')"
   ]
  },
  {
   "cell_type": "code",
   "execution_count": 7,
   "id": "c06980f4-8351-4b09-a342-3b918f436232",
   "metadata": {},
   "outputs": [],
   "source": [
    "# tratamiento empresa no tenga tipo nif <> 31\n",
    "cond1 = resultado['Tratamiento'] == 'Empresa'\n",
    "cond2 = resultado['nif'] != 31\n",
    "\n",
    "resultado['tratamiento_x_nif'] = np.where(cond1 & cond2,'error','ok')"
   ]
  },
  {
   "cell_type": "code",
   "execution_count": 8,
   "id": "17a7f0cc-99a8-4307-a292-7010767500ed",
   "metadata": {},
   "outputs": [],
   "source": [
    "# tratamiento empresa no tenga medios magneticos (nombre1 y nombre2)\n",
    "\n",
    "cond1 = resultado['Tratamiento'] == 'Empresa'\n",
    "cond2 = resultado['Nombre 3'] == 'NaN'\n",
    "cond3 = resultado['Nombre 4'] == 'NaN'\n",
    "\n",
    "resultado['tratamiento_x_medMag'] = np.where(cond1 & cond2 & cond3,'error','ok')"
   ]
  },
  {
   "cell_type": "code",
   "execution_count": 9,
   "id": "4fee7958-b742-457f-af1e-dfa0a7334bf9",
   "metadata": {},
   "outputs": [],
   "source": [
    "# nif 5 no este vacio\n",
    "\n",
    "cond1 = resultado['Número fiscal 5'] != pd.isna\n",
    "\n",
    "\n",
    "resultado['nif5'] = np.where(cond1,'ok','error')"
   ]
  },
  {
   "cell_type": "code",
   "execution_count": 26,
   "id": "e54faf07-4cd3-4eed-a6d1-7ad7851a1494",
   "metadata": {},
   "outputs": [
    {
     "name": "stdout",
     "output_type": "stream",
     "text": [
      "   Tratamiento   Cliente  nif Número fiscal 5 nif5\n",
      "0        Señor  11038129   13    1036924734.0   ok\n",
      "1       Señora  11038197   31      43023472.0   ok\n",
      "2      Empresa  11038219   43      11038219.0   ok\n",
      "3        Señor  11038230   13             NaN   ok\n",
      "4        Señor  11038465   31    1017134527.0   ok\n",
      "5       Señora  11038479   31    1007760362.0   ok\n",
      "6       Señora  11038501   31      21476408.0   ok\n",
      "7       Señora  11038517   31    1036404561.0   ok\n",
      "8       Señora  11038783   31    1122133982.0   ok\n",
      "9      Empresa  11038858   31     901713077.0   ok\n",
      "10      Señora  11039031   13      43212130.0   ok\n",
      "11      Señora  11039043   13      25397234.0   ok\n",
      "12       Señor  11039046   31    1098654279.0   ok\n",
      "13       Señor  11039080   13    1005339003.0   ok\n",
      "14      Señora  11039091   13      21931081.0   ok\n",
      "15      Señora  11039203   13      39540809.0   ok\n",
      "16       Señor  11039216   31    1129570917.0   ok\n",
      "17       Señor  11039217   31       1984229.0   ok\n",
      "18      Señora  11039244   13    1106951210.0   ok\n",
      "19      Señora  11039438   13    1042062091.0   ok\n"
     ]
    }
   ],
   "source": [
    "# Seleccionar columnas específicas\n",
    "vista = ['Tratamiento', 'Cliente','claseImp', 'tipoPerona', 'nif', 'descripcion', 'tratamiento_x_claseImpto']\n",
    "vista = ['Tratamiento', 'Cliente','tipoPerona','tratamiento_x_claseImpto']\n",
    "vista = ['Tratamiento', 'Cliente','nif','tratamiento_x_nif']\n",
    "vista = ['Tratamiento', 'Cliente','nif', 'Nombre 3', 'Nombre 4', 'tratamiento_x_medMag']\n",
    "vista = ['Tratamiento', 'Cliente','nif', 'Número fiscal 5','nif5']\n",
    "resultado_seleccionado = resultado[vista]\n",
    "\n",
    "\n",
    "#print(resultado_seleccionado)\n",
    "print(resultado_seleccionado)"
   ]
  }
 ],
 "metadata": {
  "kernelspec": {
   "display_name": "Python 3 (ipykernel)",
   "language": "python",
   "name": "python3"
  },
  "language_info": {
   "codemirror_mode": {
    "name": "ipython",
    "version": 3
   },
   "file_extension": ".py",
   "mimetype": "text/x-python",
   "name": "python",
   "nbconvert_exporter": "python",
   "pygments_lexer": "ipython3",
   "version": "3.11.7"
  }
 },
 "nbformat": 4,
 "nbformat_minor": 5
}
