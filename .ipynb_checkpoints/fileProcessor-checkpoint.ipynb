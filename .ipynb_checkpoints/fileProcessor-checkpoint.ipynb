{
 "cells": [
  {
   "cell_type": "code",
   "execution_count": 1,
   "id": "68e81ce8-d5ae-4213-a3c2-60a6df9b0e3b",
   "metadata": {},
   "outputs": [],
   "source": [
    "import pandas as pd\n",
    "import numpy as np\n",
    "import re\n",
    "import matplotlib.pyplot as plt"
   ]
  },
  {
   "cell_type": "code",
   "execution_count": 2,
   "id": "367c42f3-b9cc-46e6-9c02-c28a6cb159d2",
   "metadata": {},
   "outputs": [],
   "source": [
    "# Para el manejo de este archivo se define como regla general\n",
    "\n",
    "# error = true\n",
    "# ok = false\n",
    "\n",
    "# Siempre que las validaciones arrojen True significa que hay datos sin calidad."
   ]
  },
  {
   "cell_type": "code",
   "execution_count": 3,
   "id": "cc338b73-c397-435a-8292-cd80a18872bf",
   "metadata": {},
   "outputs": [
    {
     "ename": "FileNotFoundError",
     "evalue": "[Errno 2] No such file or directory: 'data/temp/kna1.csv'",
     "output_type": "error",
     "traceback": [
      "\u001b[1;31m---------------------------------------------------------------------------\u001b[0m",
      "\u001b[1;31mFileNotFoundError\u001b[0m                         Traceback (most recent call last)",
      "Cell \u001b[1;32mIn[3], line 5\u001b[0m\n\u001b[0;32m      2\u001b[0m ruta_csv \u001b[38;5;241m=\u001b[39m \u001b[38;5;124m'\u001b[39m\u001b[38;5;124mdata/temp/kna1.csv\u001b[39m\u001b[38;5;124m'\u001b[39m\n\u001b[0;32m      4\u001b[0m \u001b[38;5;66;03m# Cargar el archivo CSV en un DataFrame con opciones adicionales\u001b[39;00m\n\u001b[1;32m----> 5\u001b[0m kna1 \u001b[38;5;241m=\u001b[39m pd\u001b[38;5;241m.\u001b[39mread_csv(\n\u001b[0;32m      6\u001b[0m     ruta_csv,\n\u001b[0;32m      7\u001b[0m     sep\u001b[38;5;241m=\u001b[39m\u001b[38;5;124m'\u001b[39m\u001b[38;5;124m,\u001b[39m\u001b[38;5;124m'\u001b[39m,  \u001b[38;5;66;03m# Delimitador\u001b[39;00m\n\u001b[0;32m      8\u001b[0m     header\u001b[38;5;241m=\u001b[39m\u001b[38;5;241m0\u001b[39m,  \u001b[38;5;66;03m# Primera fila como encabezado\u001b[39;00m\n\u001b[0;32m      9\u001b[0m     dtype\u001b[38;5;241m=\u001b[39m{\u001b[38;5;124m'\u001b[39m\u001b[38;5;124mTratamiento\u001b[39m\u001b[38;5;124m'\u001b[39m: \u001b[38;5;28mstr\u001b[39m, \u001b[38;5;124m'\u001b[39m\u001b[38;5;124mNúmero fiscal 5\u001b[39m\u001b[38;5;124m'\u001b[39m: \u001b[38;5;28mstr\u001b[39m, \u001b[38;5;124m'\u001b[39m\u001b[38;5;124mTeléfono 1\u001b[39m\u001b[38;5;124m'\u001b[39m: \u001b[38;5;28mstr\u001b[39m},  \u001b[38;5;66;03m# Tipos de datos\u001b[39;00m\n\u001b[0;32m     10\u001b[0m     na_values\u001b[38;5;241m=\u001b[39m[\u001b[38;5;124m'\u001b[39m\u001b[38;5;124mNA\u001b[39m\u001b[38;5;124m'\u001b[39m, \u001b[38;5;124m'\u001b[39m\u001b[38;5;124mN/A\u001b[39m\u001b[38;5;124m'\u001b[39m]  \u001b[38;5;66;03m# Valores a considerar como NaN\u001b[39;00m\n\u001b[0;32m     11\u001b[0m )\n",
      "File \u001b[1;32m~\\AppData\\Local\\anaconda3\\Lib\\site-packages\\pandas\\io\\parsers\\readers.py:1026\u001b[0m, in \u001b[0;36mread_csv\u001b[1;34m(filepath_or_buffer, sep, delimiter, header, names, index_col, usecols, dtype, engine, converters, true_values, false_values, skipinitialspace, skiprows, skipfooter, nrows, na_values, keep_default_na, na_filter, verbose, skip_blank_lines, parse_dates, infer_datetime_format, keep_date_col, date_parser, date_format, dayfirst, cache_dates, iterator, chunksize, compression, thousands, decimal, lineterminator, quotechar, quoting, doublequote, escapechar, comment, encoding, encoding_errors, dialect, on_bad_lines, delim_whitespace, low_memory, memory_map, float_precision, storage_options, dtype_backend)\u001b[0m\n\u001b[0;32m   1013\u001b[0m kwds_defaults \u001b[38;5;241m=\u001b[39m _refine_defaults_read(\n\u001b[0;32m   1014\u001b[0m     dialect,\n\u001b[0;32m   1015\u001b[0m     delimiter,\n\u001b[1;32m   (...)\u001b[0m\n\u001b[0;32m   1022\u001b[0m     dtype_backend\u001b[38;5;241m=\u001b[39mdtype_backend,\n\u001b[0;32m   1023\u001b[0m )\n\u001b[0;32m   1024\u001b[0m kwds\u001b[38;5;241m.\u001b[39mupdate(kwds_defaults)\n\u001b[1;32m-> 1026\u001b[0m \u001b[38;5;28;01mreturn\u001b[39;00m _read(filepath_or_buffer, kwds)\n",
      "File \u001b[1;32m~\\AppData\\Local\\anaconda3\\Lib\\site-packages\\pandas\\io\\parsers\\readers.py:620\u001b[0m, in \u001b[0;36m_read\u001b[1;34m(filepath_or_buffer, kwds)\u001b[0m\n\u001b[0;32m    617\u001b[0m _validate_names(kwds\u001b[38;5;241m.\u001b[39mget(\u001b[38;5;124m\"\u001b[39m\u001b[38;5;124mnames\u001b[39m\u001b[38;5;124m\"\u001b[39m, \u001b[38;5;28;01mNone\u001b[39;00m))\n\u001b[0;32m    619\u001b[0m \u001b[38;5;66;03m# Create the parser.\u001b[39;00m\n\u001b[1;32m--> 620\u001b[0m parser \u001b[38;5;241m=\u001b[39m TextFileReader(filepath_or_buffer, \u001b[38;5;241m*\u001b[39m\u001b[38;5;241m*\u001b[39mkwds)\n\u001b[0;32m    622\u001b[0m \u001b[38;5;28;01mif\u001b[39;00m chunksize \u001b[38;5;129;01mor\u001b[39;00m iterator:\n\u001b[0;32m    623\u001b[0m     \u001b[38;5;28;01mreturn\u001b[39;00m parser\n",
      "File \u001b[1;32m~\\AppData\\Local\\anaconda3\\Lib\\site-packages\\pandas\\io\\parsers\\readers.py:1620\u001b[0m, in \u001b[0;36mTextFileReader.__init__\u001b[1;34m(self, f, engine, **kwds)\u001b[0m\n\u001b[0;32m   1617\u001b[0m     \u001b[38;5;28mself\u001b[39m\u001b[38;5;241m.\u001b[39moptions[\u001b[38;5;124m\"\u001b[39m\u001b[38;5;124mhas_index_names\u001b[39m\u001b[38;5;124m\"\u001b[39m] \u001b[38;5;241m=\u001b[39m kwds[\u001b[38;5;124m\"\u001b[39m\u001b[38;5;124mhas_index_names\u001b[39m\u001b[38;5;124m\"\u001b[39m]\n\u001b[0;32m   1619\u001b[0m \u001b[38;5;28mself\u001b[39m\u001b[38;5;241m.\u001b[39mhandles: IOHandles \u001b[38;5;241m|\u001b[39m \u001b[38;5;28;01mNone\u001b[39;00m \u001b[38;5;241m=\u001b[39m \u001b[38;5;28;01mNone\u001b[39;00m\n\u001b[1;32m-> 1620\u001b[0m \u001b[38;5;28mself\u001b[39m\u001b[38;5;241m.\u001b[39m_engine \u001b[38;5;241m=\u001b[39m \u001b[38;5;28mself\u001b[39m\u001b[38;5;241m.\u001b[39m_make_engine(f, \u001b[38;5;28mself\u001b[39m\u001b[38;5;241m.\u001b[39mengine)\n",
      "File \u001b[1;32m~\\AppData\\Local\\anaconda3\\Lib\\site-packages\\pandas\\io\\parsers\\readers.py:1880\u001b[0m, in \u001b[0;36mTextFileReader._make_engine\u001b[1;34m(self, f, engine)\u001b[0m\n\u001b[0;32m   1878\u001b[0m     \u001b[38;5;28;01mif\u001b[39;00m \u001b[38;5;124m\"\u001b[39m\u001b[38;5;124mb\u001b[39m\u001b[38;5;124m\"\u001b[39m \u001b[38;5;129;01mnot\u001b[39;00m \u001b[38;5;129;01min\u001b[39;00m mode:\n\u001b[0;32m   1879\u001b[0m         mode \u001b[38;5;241m+\u001b[39m\u001b[38;5;241m=\u001b[39m \u001b[38;5;124m\"\u001b[39m\u001b[38;5;124mb\u001b[39m\u001b[38;5;124m\"\u001b[39m\n\u001b[1;32m-> 1880\u001b[0m \u001b[38;5;28mself\u001b[39m\u001b[38;5;241m.\u001b[39mhandles \u001b[38;5;241m=\u001b[39m get_handle(\n\u001b[0;32m   1881\u001b[0m     f,\n\u001b[0;32m   1882\u001b[0m     mode,\n\u001b[0;32m   1883\u001b[0m     encoding\u001b[38;5;241m=\u001b[39m\u001b[38;5;28mself\u001b[39m\u001b[38;5;241m.\u001b[39moptions\u001b[38;5;241m.\u001b[39mget(\u001b[38;5;124m\"\u001b[39m\u001b[38;5;124mencoding\u001b[39m\u001b[38;5;124m\"\u001b[39m, \u001b[38;5;28;01mNone\u001b[39;00m),\n\u001b[0;32m   1884\u001b[0m     compression\u001b[38;5;241m=\u001b[39m\u001b[38;5;28mself\u001b[39m\u001b[38;5;241m.\u001b[39moptions\u001b[38;5;241m.\u001b[39mget(\u001b[38;5;124m\"\u001b[39m\u001b[38;5;124mcompression\u001b[39m\u001b[38;5;124m\"\u001b[39m, \u001b[38;5;28;01mNone\u001b[39;00m),\n\u001b[0;32m   1885\u001b[0m     memory_map\u001b[38;5;241m=\u001b[39m\u001b[38;5;28mself\u001b[39m\u001b[38;5;241m.\u001b[39moptions\u001b[38;5;241m.\u001b[39mget(\u001b[38;5;124m\"\u001b[39m\u001b[38;5;124mmemory_map\u001b[39m\u001b[38;5;124m\"\u001b[39m, \u001b[38;5;28;01mFalse\u001b[39;00m),\n\u001b[0;32m   1886\u001b[0m     is_text\u001b[38;5;241m=\u001b[39mis_text,\n\u001b[0;32m   1887\u001b[0m     errors\u001b[38;5;241m=\u001b[39m\u001b[38;5;28mself\u001b[39m\u001b[38;5;241m.\u001b[39moptions\u001b[38;5;241m.\u001b[39mget(\u001b[38;5;124m\"\u001b[39m\u001b[38;5;124mencoding_errors\u001b[39m\u001b[38;5;124m\"\u001b[39m, \u001b[38;5;124m\"\u001b[39m\u001b[38;5;124mstrict\u001b[39m\u001b[38;5;124m\"\u001b[39m),\n\u001b[0;32m   1888\u001b[0m     storage_options\u001b[38;5;241m=\u001b[39m\u001b[38;5;28mself\u001b[39m\u001b[38;5;241m.\u001b[39moptions\u001b[38;5;241m.\u001b[39mget(\u001b[38;5;124m\"\u001b[39m\u001b[38;5;124mstorage_options\u001b[39m\u001b[38;5;124m\"\u001b[39m, \u001b[38;5;28;01mNone\u001b[39;00m),\n\u001b[0;32m   1889\u001b[0m )\n\u001b[0;32m   1890\u001b[0m \u001b[38;5;28;01massert\u001b[39;00m \u001b[38;5;28mself\u001b[39m\u001b[38;5;241m.\u001b[39mhandles \u001b[38;5;129;01mis\u001b[39;00m \u001b[38;5;129;01mnot\u001b[39;00m \u001b[38;5;28;01mNone\u001b[39;00m\n\u001b[0;32m   1891\u001b[0m f \u001b[38;5;241m=\u001b[39m \u001b[38;5;28mself\u001b[39m\u001b[38;5;241m.\u001b[39mhandles\u001b[38;5;241m.\u001b[39mhandle\n",
      "File \u001b[1;32m~\\AppData\\Local\\anaconda3\\Lib\\site-packages\\pandas\\io\\common.py:873\u001b[0m, in \u001b[0;36mget_handle\u001b[1;34m(path_or_buf, mode, encoding, compression, memory_map, is_text, errors, storage_options)\u001b[0m\n\u001b[0;32m    868\u001b[0m \u001b[38;5;28;01melif\u001b[39;00m \u001b[38;5;28misinstance\u001b[39m(handle, \u001b[38;5;28mstr\u001b[39m):\n\u001b[0;32m    869\u001b[0m     \u001b[38;5;66;03m# Check whether the filename is to be opened in binary mode.\u001b[39;00m\n\u001b[0;32m    870\u001b[0m     \u001b[38;5;66;03m# Binary mode does not support 'encoding' and 'newline'.\u001b[39;00m\n\u001b[0;32m    871\u001b[0m     \u001b[38;5;28;01mif\u001b[39;00m ioargs\u001b[38;5;241m.\u001b[39mencoding \u001b[38;5;129;01mand\u001b[39;00m \u001b[38;5;124m\"\u001b[39m\u001b[38;5;124mb\u001b[39m\u001b[38;5;124m\"\u001b[39m \u001b[38;5;129;01mnot\u001b[39;00m \u001b[38;5;129;01min\u001b[39;00m ioargs\u001b[38;5;241m.\u001b[39mmode:\n\u001b[0;32m    872\u001b[0m         \u001b[38;5;66;03m# Encoding\u001b[39;00m\n\u001b[1;32m--> 873\u001b[0m         handle \u001b[38;5;241m=\u001b[39m \u001b[38;5;28mopen\u001b[39m(\n\u001b[0;32m    874\u001b[0m             handle,\n\u001b[0;32m    875\u001b[0m             ioargs\u001b[38;5;241m.\u001b[39mmode,\n\u001b[0;32m    876\u001b[0m             encoding\u001b[38;5;241m=\u001b[39mioargs\u001b[38;5;241m.\u001b[39mencoding,\n\u001b[0;32m    877\u001b[0m             errors\u001b[38;5;241m=\u001b[39merrors,\n\u001b[0;32m    878\u001b[0m             newline\u001b[38;5;241m=\u001b[39m\u001b[38;5;124m\"\u001b[39m\u001b[38;5;124m\"\u001b[39m,\n\u001b[0;32m    879\u001b[0m         )\n\u001b[0;32m    880\u001b[0m     \u001b[38;5;28;01melse\u001b[39;00m:\n\u001b[0;32m    881\u001b[0m         \u001b[38;5;66;03m# Binary mode\u001b[39;00m\n\u001b[0;32m    882\u001b[0m         handle \u001b[38;5;241m=\u001b[39m \u001b[38;5;28mopen\u001b[39m(handle, ioargs\u001b[38;5;241m.\u001b[39mmode)\n",
      "\u001b[1;31mFileNotFoundError\u001b[0m: [Errno 2] No such file or directory: 'data/temp/kna1.csv'"
     ]
    }
   ],
   "source": [
    "# Ruta al archivo CSV\n",
    "ruta_csv = 'data/temp/kna1.csv'\n",
    "\n",
    "# Cargar el archivo CSV en un DataFrame con opciones adicionales\n",
    "kna1 = pd.read_csv(\n",
    "    ruta_csv,\n",
    "    sep=',',  # Delimitador\n",
    "    header=0,  # Primera fila como encabezado\n",
    "    dtype={'Tratamiento': str, 'Número fiscal 5': str, 'Teléfono 1': str},  # Tipos de datos\n",
    "    na_values=['NA', 'N/A']  # Valores a considerar como NaN\n",
    ")"
   ]
  },
  {
   "cell_type": "code",
   "execution_count": null,
   "id": "3360941d-eac1-4356-be22-204a251d6c10",
   "metadata": {},
   "outputs": [],
   "source": [
    "kna1_renamed =  kna1.rename(columns={'Tipo NIF': 'nif'})\n",
    "\n",
    "# Ruta al archivo CSV\n",
    "ruta_csv = 'data/generalTabes/nif.csv'\n",
    "\n",
    "# Cargar el archivo CSV en un DataFrame con opciones adicionales\n",
    "nif = pd.read_csv(\n",
    "    ruta_csv,\n",
    "    sep=',',  # Delimitador\n",
    "    header=0,  # Primera fila como encabezado\n",
    "    \n",
    ")\n",
    "\n",
    "\n",
    "nif_renamed =  nif.rename(columns={'nif': 'nif'})\n",
    "\n",
    "\n",
    "# Realizar el merge\n",
    "kna1_renamed = pd.merge(kna1_renamed, nif_renamed, on='nif', how='left')\n",
    "\n",
    "# Seleccionar columnas específicas\n",
    "validacionNif = ['Cliente','nif', 'descripcion']\n",
    "resultado_seleccionado = kna1_renamed[validacionNif]"
   ]
  },
  {
   "cell_type": "code",
   "execution_count": null,
   "id": "a07b3936-1d6b-4627-9a23-3b68fff02bd8",
   "metadata": {},
   "outputs": [],
   "source": [
    "kna1_renamed =  kna1_renamed.rename(columns={'Clase de impuesto': 'claseImp'})\n",
    "\n",
    "# Ruta al archivo CSV\n",
    "ruta_csv = 'data\\generalTabes\\claseImpuesto.csv'\n",
    "\n",
    "# Cargar el archivo CSV en un DataFrame con opciones adicionales\n",
    "impuesto = pd.read_csv(\n",
    "    ruta_csv,\n",
    "    sep=',',  # Delimitador\n",
    "    header=0,  # Primera fila como encabezado\n",
    ")\n",
    "\n",
    "\n",
    "impuesto_renamed =  impuesto.rename(columns={'clase': 'claseImp'})\n",
    "\n",
    "\n",
    "# Realizar el merge\n",
    "resultado = pd.merge(kna1_renamed, impuesto_renamed, on='claseImp', how='left')\n",
    "resultado['tipoPerona'] = resultado['descripcion impuesto'].str[:2]"
   ]
  },
  {
   "cell_type": "code",
   "execution_count": null,
   "id": "7a03422f-44f3-4e38-91f2-5bd5ea4123ed",
   "metadata": {},
   "outputs": [],
   "source": [
    "# tratamiento empresa no tenga clase de impuestos pn\n",
    "cond1 = resultado['Tratamiento'] == 'Empresa'\n",
    "cond2 = resultado['tipoPerona'] == 'PN'\n",
    "\n",
    "resultado['tratamiento_x_claseImpto'] = np.where(cond1 & cond2, True, False)"
   ]
  },
  {
   "cell_type": "code",
   "execution_count": null,
   "id": "c06980f4-8351-4b09-a342-3b918f436232",
   "metadata": {},
   "outputs": [],
   "source": [
    "# tratamiento empresa no tenga tipo nif <> 31\n",
    "cond1 = resultado['Tratamiento'] == 'Empresa'\n",
    "cond2 = resultado['nif'] != 31\n",
    "\n",
    "resultado['tratamiento_x_nif'] = np.where(cond1 & cond2,True,False)"
   ]
  },
  {
   "cell_type": "code",
   "execution_count": null,
   "id": "17a7f0cc-99a8-4307-a292-7010767500ed",
   "metadata": {},
   "outputs": [],
   "source": [
    "# tratamiento empresa no tenga medios magneticos (nombre1 y nombre2)\n",
    "\n",
    "cond1 = resultado['Tratamiento'] == 'Empresa'\n",
    "cond2 = resultado['Nombre 3'] == 'NaN'\n",
    "cond3 = resultado['Nombre 4'] == 'NaN'\n",
    "\n",
    "resultado['tratamiento_x_medMag'] = np.where(cond1 & cond2 & cond3,True,False)"
   ]
  },
  {
   "cell_type": "code",
   "execution_count": null,
   "id": "4fee7958-b742-457f-af1e-dfa0a7334bf9",
   "metadata": {},
   "outputs": [],
   "source": [
    "# nif 5 no este vacio\n",
    "\n",
    "cond1 = resultado['Número fiscal 5'].isnull()\n",
    "\n",
    "\n",
    "resultado['error_nif5'] = np.where(cond1,True,False)"
   ]
  },
  {
   "cell_type": "code",
   "execution_count": null,
   "id": "c148850b-c70f-4044-81bf-87092a2fb3dc",
   "metadata": {},
   "outputs": [],
   "source": [
    "# los numeros de telefono no tengan guiones (-)\n",
    "\n",
    "cond1 = resultado['Teléfono 1']\n",
    "\n",
    "cond1 = cond1.fillna('').astype(str)\n",
    "\n",
    "def contains_hyphen(text):\n",
    "    return '-' in text\n",
    "\n",
    "# Aplicar la función a cada elemento de la serie\n",
    "resultado['error_telefono'] = cond1.apply(contains_hyphen)"
   ]
  },
  {
   "cell_type": "code",
   "execution_count": null,
   "id": "1c3f698c-6081-471e-b6d3-ae954dd379c8",
   "metadata": {},
   "outputs": [],
   "source": [
    "# los numeros de telefono estan vacios\n",
    "\n",
    "cond1 = resultado['Teléfono 1'].isnull()\n",
    "\n",
    "\n",
    "resultado['error_telefono_vacio'] = np.where(cond1,True,False)"
   ]
  },
  {
   "cell_type": "code",
   "execution_count": null,
   "id": "94584b68-17a3-49ca-a01f-6b195d351e7e",
   "metadata": {},
   "outputs": [],
   "source": [
    "# las direcciones no tengan caracteres especiales (# - grados N`)\n",
    "\n",
    "cond1 = resultado['Calle']\n",
    "\n",
    "cond1 = cond1.fillna('').astype(str)\n",
    "\n",
    "def contains_hyphen(text):\n",
    "    #definir los caracteres especiales que se consideran como error en la direccion\n",
    "    patron = r'[#-]'\n",
    "    return bool(re.search(patron, text))\n",
    "\n",
    "# Aplicar la función a cada elemento de la serie\n",
    "resultado['error_calle'] = cond1.apply(contains_hyphen)"
   ]
  },
  {
   "cell_type": "code",
   "execution_count": null,
   "id": "f8f54f33-9375-48db-adfe-ff2f9448feff",
   "metadata": {},
   "outputs": [],
   "source": [
    "# tratamiento empresa no tenga medios magneticos (nombre1 y nombre2)\n",
    "\n",
    "    \n",
    "# Crear una columna 'error_personaFisica' basada en condiciones\n",
    "resultado['error_personaFisica'] = False  # Inicializar con un valor por defecto\n",
    "\n",
    "# Aplicar condiciones\n",
    "resultado.loc[(resultado['claseImp'] == 13) & (resultado['nif'] == 13) & (resultado['Persona física'].isnull()), 'error_personaFisica'] = True\n",
    "\n",
    "resultado.loc[(resultado['claseImp'] != 13) & (resultado['nif'] == 13) & (resultado['Persona física'] == 'X'), 'error_personaFisica'] = True\n",
    "\n",
    "resultado.loc[(resultado['claseImp'] == 13) & (resultado['nif'] != 13) & (resultado['Persona física'] == 'X'), 'error_personaFisica'] = True\n"
   ]
  },
  {
   "cell_type": "code",
   "execution_count": null,
   "id": "e54faf07-4cd3-4eed-a6d1-7ad7851a1494",
   "metadata": {},
   "outputs": [],
   "source": [
    "# Seleccionar columnas específicas\n",
    "vista = ['Cliente','tratamiento_x_claseImpto', 'tratamiento_x_claseImpto', \n",
    "         'tratamiento_x_nif', 'tratamiento_x_medMag','error_nif5',\n",
    "         'error_telefono', 'error_telefono_vacio', 'error_calle', \n",
    "         'error_personaFisica']\n",
    "\n",
    "resultado_seleccionado = resultado[vista]\n",
    "\n",
    "\n",
    "#print(resultado_seleccionado)\n",
    "#print(resultado_seleccionado)\n",
    "\n",
    "#resultado_seleccionado.to_csv('data/final/result.csv', index=False)"
   ]
  },
  {
   "cell_type": "code",
   "execution_count": null,
   "id": "384ffaf7",
   "metadata": {},
   "outputs": [],
   "source": [
    "# Etiquetas personalizadas\n",
    "etiquetas = ['Correctos', 'Errores']"
   ]
  },
  {
   "cell_type": "code",
   "execution_count": null,
   "id": "831394dc",
   "metadata": {},
   "outputs": [],
   "source": [
    "# Crear gráfico de torta\n",
    "\n",
    "# Cantidad de errores en persona fisicay\n",
    "conteo = resultado_seleccionado['error_personaFisica'].value_counts()\n",
    "plt.figure(figsize=(5, 5))\n",
    "plt.pie(conteo,labels=etiquetas, autopct='%1.1f%%', colors=['skyblue', 'salmon'])\n",
    "plt.title('Error check persona Fisica')\n",
    "\n",
    "# Agregar texto descriptivo\n",
    "texto_descriptivo = (\n",
    "    \"Este gráfico muestra la cantidad de terceros con error en el check de persona fisica.\\n\"\n",
    "    \"'Valor Verdadero' representa la cantidad de registros con valor True.\\n\"\n",
    "    \"'Valor Falso' representa la cantidad de registros con valor False.\"\n",
    ")\n",
    "plt.text(-1.5, -1.5, texto_descriptivo, fontsize=11, ha='left', va='top', bbox=dict(facecolor='white', alpha=0.8))\n",
    "\n",
    "\n",
    "\n",
    "plt.show()"
   ]
  },
  {
   "cell_type": "code",
   "execution_count": null,
   "id": "acef8f7d",
   "metadata": {},
   "outputs": [],
   "source": [
    "# Crear gráfico de torta\n",
    "\n",
    "# Cantidad de clientes con telefonos vacios\n",
    "conteo = resultado_seleccionado['error_telefono_vacio'].value_counts()\n",
    "plt.figure(figsize=(4, 4))\n",
    "plt.pie(conteo,labels=etiquetas, autopct='%1.1f%%', colors=['skyblue', 'salmon'])\n",
    "plt.title('Terceros con telefono vacio')\n",
    "\n",
    "# Agregar texto descriptivo\n",
    "texto_descriptivo = (\n",
    "    \"Este gráfico muestra la cantidad de terceros con telefono vacio.\\n\"\n",
    "    \"'Valor Verdadero' representa la cantidad de registros con valor True.\\n\"\n",
    "    \"'Valor Falso' representa la cantidad de registros con valor False.\"\n",
    ")\n",
    "plt.text(-2, -1.5, texto_descriptivo, fontsize=11, ha='left', va='top', bbox=dict(facecolor='white', alpha=0.8))\n",
    "\n",
    "\n",
    "plt.show()"
   ]
  },
  {
   "cell_type": "code",
   "execution_count": null,
   "id": "30796f74",
   "metadata": {},
   "outputs": [],
   "source": [
    "# Función para mostrar la cantidad de registros en lugar del porcentaje\n",
    "def formato_registros(valores):\n",
    "    def formatear(pct):\n",
    "        total = sum(valores)\n",
    "        cantidad = int(round(total * pct / 100))\n",
    "        return f'{cantidad}'\n",
    "    return formatear\n",
    "\n",
    "# Crear gráfico de torta\n",
    "plt.figure(figsize=(6, 6))\n",
    "plt.pie(conteo, labels=etiquetas, autopct=formato_registros(conteo), colors=['skyblue', 'salmon'])\n",
    "plt.title('Distribución de valores booleanos')\n",
    "\n",
    "plt.show()"
   ]
  }
 ],
 "metadata": {
  "kernelspec": {
   "display_name": "Python 3 (ipykernel)",
   "language": "python",
   "name": "python3"
  },
  "language_info": {
   "codemirror_mode": {
    "name": "ipython",
    "version": 3
   },
   "file_extension": ".py",
   "mimetype": "text/x-python",
   "name": "python",
   "nbconvert_exporter": "python",
   "pygments_lexer": "ipython3",
   "version": "3.12.4"
  }
 },
 "nbformat": 4,
 "nbformat_minor": 5
}
